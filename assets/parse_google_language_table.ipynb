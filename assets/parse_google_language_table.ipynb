{
 "cells": [
  {
   "cell_type": "code",
   "execution_count": 3,
   "metadata": {},
   "outputs": [
    {
     "name": "stdout",
     "output_type": "stream",
     "text": [
      "[]\n"
     ]
    }
   ],
   "source": [
    "from bs4 import BeautifulSoup\n",
    "\n",
    "# Sample HTML content\n",
    "# Define the path to your HTML file\n",
    "file_path = '/Users/teddy/Downloads/view-source_https___cloud.google.com_speech-to-text_v2_docs_speech-to-text-supported-languages.html'\n",
    "\n",
    "# Open and read the file\n",
    "with open(file_path, 'r', encoding='utf-8') as file:\n",
    "    html_content = file.read()\n",
    "\n",
    "# Parse HTML with BeautifulSoup\n",
    "soup = BeautifulSoup(html_content, 'html.parser')\n",
    "\n",
    "# Find all <tr> tags\n",
    "rows = soup.find_all('tr')\n",
    "\n",
    "# List to store languages\n",
    "languages = []\n",
    "\n",
    "# Iterate through each row and check for the specific <td> with 'chirp'\n",
    "for row in rows:\n",
    "    cells = row.find_all('td')\n",
    "    for i, cell in enumerate(cells):\n",
    "        if cell.get_text(strip=True) == 'chirp':\n",
    "            # Check the position and extract the language two positions before 'chirp'\n",
    "            if i >= 2:\n",
    "                language_cell = cells[i-2]  # Get the second cell before 'chirp'\n",
    "                languages.append(language_cell.get_text(strip=True))\n",
    "\n",
    "# Output the list of languages\n",
    "print(languages)"
   ]
  },
  {
   "cell_type": "code",
   "execution_count": null,
   "metadata": {},
   "outputs": [],
   "source": []
  }
 ],
 "metadata": {
  "kernelspec": {
   "display_name": "google-hackathon",
   "language": "python",
   "name": "python3"
  },
  "language_info": {
   "codemirror_mode": {
    "name": "ipython",
    "version": 3
   },
   "file_extension": ".py",
   "mimetype": "text/x-python",
   "name": "python",
   "nbconvert_exporter": "python",
   "pygments_lexer": "ipython3",
   "version": "3.11.9"
  }
 },
 "nbformat": 4,
 "nbformat_minor": 2
}
