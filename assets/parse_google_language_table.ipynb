{
 "cells": [
  {
   "cell_type": "code",
   "execution_count": 10,
   "metadata": {},
   "outputs": [
    {
     "name": "stdout",
     "output_type": "stream",
     "text": [
      "{'af-ZA': 'Afrikaans (South Africa)', 'sq-AL': 'Albanian (Albania)', 'am-ET': 'Amharic (Ethiopia)', 'ar-EG': 'Arabic (Egypt)', 'hy-AM': 'Armenian (Armenia)', 'as-IN': 'Assamese (India)', 'ast-ES': 'Asturian (Spain)', 'az-AZ': 'Azerbaijani (Azerbaijan)', 'eu-ES': 'Basque (Spain)', 'be-BY': 'Belarusian (Belarus)', 'bs-BA': 'Bosnian (Bosnia and Herzegovina)', 'bg-BG': 'Bulgarian (Bulgaria)', 'my-MM': 'Burmese (Myanmar)', 'ca-ES': 'Catalan (Spain)', 'ceb-PH': 'Cebuano (Philippines)', 'ckb-IQ': 'Central Kurdish (Iraq)', 'yue-Hant-HK': 'Chinese, Cantonese (Traditional Hong Kong)', 'zh-TW (cmn-Hant-TW)': 'Chinese, Mandarin (Traditional, Taiwan)', 'hr-HR': 'Croatian (Croatia)', 'cs-CZ': 'Czech (Czech Republic)', 'da-DK': 'Danish (Denmark)', 'nl-NL': 'Dutch (Netherlands)', 'en-AU': 'English (Australia)', 'en-IN': 'English (India)', 'en-GB': 'English (United Kingdom)', 'en-US': 'English (United States)', 'et-EE': 'Estonian (Estonia)', 'fil-PH': 'Filipino (Philippines)', 'fi-FI': 'Finnish (Finland)', 'fr-CA': 'French (Canada)', 'fr-FR': 'French (France)', 'gl-ES': 'Galician (Spain)', 'ka-GE': 'Georgian (Georgia)', 'de-DE': 'German (Germany)', 'el-GR': 'Greek (Greece)', 'gu-IN': 'Gujarati (India)', 'ha-NG': 'Hausa (Nigeria)', 'iw-IL': 'Hebrew (Israel)', 'hi-IN': 'Hindi (India)', 'hu-HU': 'Hungarian (Hungary)', 'is-IS': 'Icelandic (Iceland)', 'id-ID': 'Indonesian (Indonesia)', 'it-IT': 'Italian (Italy)', 'ja-JP': 'Japanese (Japan)', 'jv-ID': 'Javanese (Indonesia)', 'kea-CV': 'Kabuverdianu (Cape Verde)', 'kam-KE': 'Kamba (Kenya)', 'kn-IN': 'Kannada (India)', 'kk-KZ': 'Kazakh (Kazakhstan)', 'km-KH': 'Khmer (Cambodia)', 'ko-KR': 'Korean (South Korea)', 'ky-KG': 'Kyrgyz (Cyrillic)', 'lo-LA': 'Lao (Laos)', 'lv-LV': 'Latvian (Latvia)', 'ln-CD': 'Lingala (Congo-Kinshasa)', 'lt-LT': 'Lithuanian (Lithuania)', 'luo-KE': 'Luo (Kenya)', 'lb-LU': 'Luxembourgish (Luxembourg)', 'mk-MK': 'Macedonian (North Macedonia)', 'ms-MY': 'Malay (Malaysia)', 'ml-IN': 'Malayalam (India)', 'mt-MT': 'Maltese (Malta)', 'mi-NZ': 'Maori (New Zealand)', 'mr-IN': 'Marathi (India)', 'mn-MN': 'Mongolian (Mongolia)', 'ne-NP': 'Nepali (Nepal)', 'no-NO': 'Norwegian Bokmål (Norway)', 'ny-MW': 'Nyanja (Malawi)', 'oc-FR': 'Occitan (France)', 'ps-AF': 'Pashto', 'fa-IR': 'Persian (Iran)', 'pl-PL': 'Polish (Poland)', 'pt-BR': 'Portuguese (Brazil)', 'pa-Guru-IN': 'Punjabi (Gurmukhi India)', 'ro-RO': 'Romanian (Romania)', 'ru-RU': 'Russian (Russia)', 'nso-ZA': 'Sepedi (South Africa)', 'sr-RS': 'Serbian (Serbia)', 'sn-ZW': 'Shona (Zimbabwe)', 'sd-IN': 'Sindhi (India)', 'si-LK': 'Sinhala (Sri Lanka)', 'sk-SK': 'Slovak (Slovakia)', 'sl-SI': 'Slovenian (Slovenia)', 'so-SO': 'Somali', 'es-ES': 'Spanish (Spain)', 'es-US': 'Spanish (United States)', 'su-ID': 'Sundanese (Indonesia)', 'sw': 'Swahili', 'sv-SE': 'Swedish (Sweden)', 'tg-TJ': 'Tajik (Tajikistan)', 'ta-IN': 'Tamil (India)', 'te-IN': 'Telugu (India)', 'th-TH': 'Thai (Thailand)', 'tr-TR': 'Turkish (Turkey)', 'uk-UA': 'Ukrainian (Ukraine)', 'ur-PK': 'Urdu (Pakistan)', 'uz-UZ': 'Uzbek (Uzbekistan)', 'vi-VN': 'Vietnamese (Vietnam)', 'cy-GB': 'Welsh (United Kingdom)', 'wo-SN': 'Wolof (Senegal)', 'yo-NG': 'Yoruba (Nigeria)', 'zu-ZA': 'Zulu (South Africa)', 'rup-BG': 'Aromanian (Bulgaria)', 'bn-BD': 'Bengali (Bangladesh)', 'bn-IN': 'Bengali (India)', 'ff-SN': 'Fulah (Senegal)', 'lg-UG': 'Ganda (Uganda)', 'ig-NG': 'Igbo (Nigeria)', 'ga-IE': 'Irish (Ireland)', 'or-IN': 'Oriya (India)', 'om-ET': 'Oromo (Ethiopia)', 'es-419': 'Spanish (Latin American)', 'sw-KE': 'Swahili (Kenya)', 'umb-AO': 'Umbundu (Angola)', 'xh-ZA': 'Xhosa (South Africa)'}\n"
     ]
    }
   ],
   "source": [
    "import requests\n",
    "from bs4 import BeautifulSoup\n",
    "\n",
    "# URL of the webpage\n",
    "url = 'https://cloud.google.com/speech-to-text/v2/docs/speech-to-text-supported-languages'\n",
    "\n",
    "# Send a GET request to the webpage\n",
    "response = requests.get(url)\n",
    "response.raise_for_status()  # will raise an exception for bad requests\n",
    "\n",
    "# Parse the HTML content of the page\n",
    "soup = BeautifulSoup(response.text, 'html.parser')\n",
    "\n",
    "# Find the table by assuming some identifiable attribute or structure\n",
    "# This is a hypothetical example; you will need to inspect the actual HTML structure\n",
    "# Here, I am assuming the table has a specific class 'data-table' which is common\n",
    "# You will need to adjust this based on actual webpage content\n",
    "# Function to find the correct table based on header titles\n",
    "def find_correct_table(soup):\n",
    "    tables = soup.find_all('table')\n",
    "    for table in tables:\n",
    "        headers = [th.get_text(strip=True).lower() for th in table.find_all('th')]\n",
    "        # Check for specific headers, assuming headers are in a specific order or present\n",
    "        if 'location' in headers and 'name' in headers and 'model' in headers:\n",
    "            return table\n",
    "    return None\n",
    "\n",
    "# Use the function to get the correct table\n",
    "table = find_correct_table(soup)\n",
    "\n",
    "# Dictionary to store BCP-47 codes and corresponding Names\n",
    "language_dictionary = {}\n",
    "\n",
    "if table:\n",
    "    rows = table.find('tbody', class_='list').find_all('tr') if table.find('tbody', class_='list') else []\n",
    "    # Loop through each row in the table\n",
    "    for row in rows:\n",
    "        # Find all columns in this row\n",
    "        columns = row.find_all('td')\n",
    "        if columns:\n",
    "            model_td = columns[3].find('code')\n",
    "            if model_td and 'chirp' in model_td.get_text(strip=True).lower():\n",
    "                # Extract BCP-47 code and Name\n",
    "                bcp_47_code = columns[2].get_text(strip=True)\n",
    "                name = columns[1].get_text(strip=True)\n",
    "                language_dictionary[bcp_47_code] = name\n",
    "\n",
    "# Output the dictionary\n",
    "print(language_dictionary)"
   ]
  },
  {
   "cell_type": "code",
   "execution_count": 11,
   "metadata": {},
   "outputs": [
    {
     "name": "stdout",
     "output_type": "stream",
     "text": [
      "Dictionary saved to JSON file language_data.json\n"
     ]
    }
   ],
   "source": [
    "import json\n",
    "# File path where the JSON will be saved\n",
    "json_file_path = 'language_data.json'\n",
    "\n",
    "# Save the dictionary to a JSON file\n",
    "with open(json_file_path, 'w', encoding='utf-8') as json_file:\n",
    "    json.dump(language_dictionary, json_file, ensure_ascii=False, indent=4)\n",
    "\n",
    "print(f'Dictionary saved to JSON file {json_file_path}')"
   ]
  },
  {
   "cell_type": "code",
   "execution_count": null,
   "metadata": {},
   "outputs": [],
   "source": []
  }
 ],
 "metadata": {
  "kernelspec": {
   "display_name": "google-hackathon",
   "language": "python",
   "name": "python3"
  },
  "language_info": {
   "codemirror_mode": {
    "name": "ipython",
    "version": 3
   },
   "file_extension": ".py",
   "mimetype": "text/x-python",
   "name": "python",
   "nbconvert_exporter": "python",
   "pygments_lexer": "ipython3",
   "version": "3.11.9"
  }
 },
 "nbformat": 4,
 "nbformat_minor": 2
}
