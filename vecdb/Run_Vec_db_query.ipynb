{
 "cells": [
  {
   "cell_type": "code",
   "execution_count": 1,
   "id": "753203b3-c75d-43eb-95ff-8b7b92d20c2d",
   "metadata": {},
   "outputs": [],
   "source": [
    "wcs_api_key = '6HdTpfDmEaUNqSJ1FRz9A9aaezvxp4PyPlBw'\n",
    "palm_api_key = 'ya29.a0Ad52N39LVK82gQOddk8PDTYoI7ls8yQFJGSawGTzBEf7I2hZJdRGmihiyLUjATN-j4ngMZpmPeccB1H9OUT92yvM-IvQUeL3SVUPdgA35Mk8rZ6lAVRKCpgxnirug_4ZvpLvPUpwXWqVHxrjrC20Mld1RiVh_7ieW3v9-RaiGAaCgYKAUsSARMSFQHGX2MickWKMOuWA125Nl8ZrkrBWg0177'\n",
    "cluster_url = 'https://ridedott-hackathon-8nl5t484.weaviate.network'\n",
    "gcloud_project_id = 'qwiklabs-gcp-02-08a8c713b151'"
   ]
  },
  {
   "cell_type": "code",
   "execution_count": 2,
   "id": "82417379-92dc-4772-834e-06e7417d6e46",
   "metadata": {},
   "outputs": [],
   "source": [
    "import weaviate\n",
    "from weaviate.classes.config import Property, DataType\n",
    "\n",
    "\n",
    "client = weaviate.connect_to_wcs(\n",
    "    cluster_url=cluster_url,\n",
    "    auth_credentials=weaviate.auth.AuthApiKey(wcs_api_key),\n",
    "    headers={\"X-PaLM-Api-Key\": palm_api_key},\n",
    ")"
   ]
  },
  {
   "cell_type": "code",
   "execution_count": 3,
   "id": "6f53b883-2399-4bc0-97e1-e9ebdab77874",
   "metadata": {},
   "outputs": [],
   "source": [
    "import weaviate.classes as wvc\n",
    "\n",
    "collection = client.collections.get(\"instructions_collection\")"
   ]
  },
  {
   "cell_type": "code",
   "execution_count": 4,
   "id": "07429088-9a9f-4502-b4f3-59d205967367",
   "metadata": {},
   "outputs": [],
   "source": [
    "result = collection.query.hybrid(\"what is fertility\", limit=10)"
   ]
  },
  {
   "cell_type": "code",
   "execution_count": 5,
   "id": "081ada3d-b72c-4ae1-900e-7e11f4a125c3",
   "metadata": {},
   "outputs": [
    {
     "name": "stdout",
     "output_type": "stream",
     "text": [
      "fertility-preservation-in-boys.txt\n",
      "germ-cell-tumors-in-the-body.txt\n",
      "stem-cell-transplant-allogeneic.txt\n",
      "fanconi-anemia-fa.txt\n",
      "myelodysplastic-syndrome-mds.txt\n",
      "germ-cell-tumor-of-the-brain.txt\n",
      "ultrasound.txt\n",
      "bone-marrow-failure.txt\n",
      "bone-marrow-aspiration.txt\n",
      "hemophagocytic-lymphohistiocytosis-hlh.txt\n"
     ]
    }
   ],
   "source": [
    "for e in result.objects:\n",
    "    print(e.properties.get(\"filename\"))"
   ]
  },
  {
   "cell_type": "code",
   "execution_count": 6,
   "id": "ccf90a2e-e6ef-401a-8be3-517b7ff0339e",
   "metadata": {},
   "outputs": [],
   "source": [
    "#can print format string: f\"{e.properties.get(\"content\")}\" to get all contents of the file itself"
   ]
  }
 ],
 "metadata": {
  "kernelspec": {
   "display_name": "Python 3 (ipykernel)",
   "language": "python",
   "name": "python3"
  },
  "language_info": {
   "codemirror_mode": {
    "name": "ipython",
    "version": 3
   },
   "file_extension": ".py",
   "mimetype": "text/x-python",
   "name": "python",
   "nbconvert_exporter": "python",
   "pygments_lexer": "ipython3",
   "version": "3.11.9"
  }
 },
 "nbformat": 4,
 "nbformat_minor": 5
}
