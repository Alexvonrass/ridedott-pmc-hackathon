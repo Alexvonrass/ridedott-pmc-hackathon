{
 "cells": [
  {
   "cell_type": "code",
   "execution_count": 1,
   "id": "16abdfb0-98b5-4f32-b45d-2fa61ab1f452",
   "metadata": {},
   "outputs": [],
   "source": [
    "wcs_api_key = '6HdTpfDmEaUNqSJ1FRz9A9aaezvxp4PyPlBw'\n",
    "palm_api_key = 'ya29.a0Ad52N39LVK82gQOddk8PDTYoI7ls8yQFJGSawGTzBEf7I2hZJdRGmihiyLUjATN-j4ngMZpmPeccB1H9OUT92yvM-IvQUeL3SVUPdgA35Mk8rZ6lAVRKCpgxnirug_4ZvpLvPUpwXWqVHxrjrC20Mld1RiVh_7ieW3v9-RaiGAaCgYKAUsSARMSFQHGX2MickWKMOuWA125Nl8ZrkrBWg0177'\n",
    "cluster_url = 'https://ridedott-hackathon-8nl5t484.weaviate.network'\n",
    "gcloud_project_id = 'qwiklabs-gcp-02-08a8c713b151'"
   ]
  },
  {
   "cell_type": "code",
   "execution_count": 2,
   "id": "11d47529-4a0b-45ae-b8b8-d94a28223a20",
   "metadata": {},
   "outputs": [],
   "source": [
    "import weaviate\n",
    "from weaviate.classes.config import Property, DataType\n",
    "\n",
    "\n",
    "client = weaviate.connect_to_wcs(\n",
    "    cluster_url=cluster_url,\n",
    "    auth_credentials=weaviate.auth.AuthApiKey(wcs_api_key),\n",
    "    headers={\"X-PaLM-Api-Key\": palm_api_key},\n",
    ")"
   ]
  },
  {
   "cell_type": "code",
   "execution_count": 3,
   "id": "68739af2-30b6-4401-946d-381d00750934",
   "metadata": {},
   "outputs": [],
   "source": [
    "import weaviate.classes as wvc\n",
    "\n",
    "collection = client.collections.create(\n",
    "    name=\"instructions_collection\",\n",
    "    vectorizer_config=wvc.config.Configure.Vectorizer.text2vec_palm(\n",
    "        project_id=gcloud_project_id,\n",
    "        model_id=\"text-embedding-preview-0409\",\n",
    "    ),\n",
    "    properties=[\n",
    "        wvc.config.Property(name=\"filename\", data_type=wvc.config.DataType.TEXT),\n",
    "        wvc.config.Property(name=\"content\", data_type=wvc.config.DataType.TEXT),\n",
    "    ],\n",
    ")"
   ]
  },
  {
   "cell_type": "code",
   "execution_count": 4,
   "id": "831c4b5f-c71e-43b5-a31b-f3685c143e48",
   "metadata": {},
   "outputs": [],
   "source": [
    "# client.collections.delete(\"instructions_collection\")"
   ]
  },
  {
   "cell_type": "code",
   "execution_count": 5,
   "id": "a1753d09-58eb-45c1-9fd0-253a1ac3d600",
   "metadata": {},
   "outputs": [],
   "source": [
    "import os\n",
    "\n",
    "directory_path = '/Users/teddy/Downloads/treatments'\n",
    "with collection.batch.dynamic() as batch:\n",
    "    for filename in os.listdir(directory_path):\n",
    "        if filename.endswith(\".txt\"):  # Ensures only .txt files are processed\n",
    "            file_path = os.path.join(directory_path, filename)\n",
    "            with open(file_path, 'r', encoding='utf-8') as file:\n",
    "                file_content = file.read()\n",
    "            # print(filename)\n",
    "            # print(file_content)\n",
    "            \n",
    "            batch.add_object(\n",
    "                    properties={\n",
    "                        \"filename\": filename,\n",
    "                        \"content\": file_content,\n",
    "                    },\n",
    "                )"
   ]
  },
  {
   "cell_type": "code",
   "execution_count": 6,
   "id": "1efd83de-fcf0-4b95-b94c-1aff3b2b9695",
   "metadata": {},
   "outputs": [],
   "source": [
    "result = collection.query.hybrid(\"what is fertility\", limit=10)"
   ]
  },
  {
   "cell_type": "code",
   "execution_count": 7,
   "id": "53c4ee35-f048-4eca-8d20-06682459bfd0",
   "metadata": {},
   "outputs": [
    {
     "name": "stdout",
     "output_type": "stream",
     "text": [
      "QueryReturn(objects=[Object(uuid=_WeaviateUUIDInt('c5d8e4dc-7e98-46b4-8ee5-6b19bbf5abb1'), metadata=MetadataReturn(creation_time=None, last_update_time=None, distance=None, certainty=None, score=None, explain_score=None, is_consistent=None, rerank_score=None), properties={'content': \"intro: Childhood cancer treatment can sometimes lead to infertility. There are options for boys who have not yet reached puberty. Those options are in a research setting. If your son is at risk of becoming infertile, you will have an interview with a fertility nurse specialist and a fertility doctor or urologist. If possible, this interview takes place before your son's treatment starts.\\n\\n\\n\\nWe know that being able to father children is very important to many adult men who have had childhood cancer. So you will have an indepth consultation with a clinical nurse specialist and/or a doctor who specializes in fertility. The following matters are discussed during this consultation:\\n\\nThe effect of the treatment on your fertility;\\nThe options for preserving fertility.\\n\\n\\xa0\\nHow do your genital organs work?\\nYour testicles contain so-called leydig cells. They produce the male hormone testosterone. During puberty, testosterone causes your penis and scrotum to grow and you develop more body hair and muscles. After puberty, testosterone keeps your reproductive organ functioning and producing sperm. You also have sertoli cells. These cells ensure the development of the sperm cells. The leydig cells and sertoli cells are both important for your fertility. Your pituitary gland (small organ in the brain that produces hormones) also plays an important role with respect to fertility. It produces hormones that signal your testicles to make sperm cells and testosterone. When you ejaculate, semen comes out of your penis. Semen contains fluids and sperm cells.\\nDamage to your genitals\\nChemotherapy, radiotherapy and surgery can damage not only sperm cells, but also the cells that produce sperm and the pituitary gland that produces hormones. The result may be that you produce fewer sperm cells, that they are less mobile or that you no longer produce any sperm cells at all. You are then less fertile or sterile.\\nFertility preservation\\nBefore your cancer treatment starts, we can freeze your sperm, that is, your sperm cells. You can use them later if you want to father a child. First, the clinical nurse specialist or doctor estimates what impact the treatment can have on your fertility.Should you need any further information, please feel free to ask.\\n\\n\\n\", 'filename': 'fertility-preservation-in-boys.txt'}, references=None, vector={}, collection='Instructions_collection'), Object(uuid=_WeaviateUUIDInt('cd387976-d45b-40bf-bf37-eb590ffea08a'), metadata=MetadataReturn(creation_time=None, last_update_time=None, distance=None, certainty=None, score=None, explain_score=None, is_consistent=None, rerank_score=None), properties={'content': \"intro: Every year, approximately 12-15 children in the Netherlands are diagnosed with a germ cell tumor in the body. The tumor can occur at any age and just as often in boys as in girls.\\n\\n\\n\\nThe brochure Germ cell tumors contains comprehensive information about this disease. Please note this brochure is currently only available in Dutch. The most important information is provided below.\\nCauses\\nGerm cell tumors are caused by a developmental error in one of the reproductive cells. Presumably, something has already changed in the cell's DNA in the nucleus before birth. The cause of that change is unknown. Germ cell tumors occur in the reproductive organs, but can also occur elsewhere.\\nSymptoms\\nThe symptoms depend on the location of the tumor. A tumor in the bottom region of the spinal column can cause visible swelling. If the tumor has grown inwardly, your child might suffer bladder and bowel dysfunction or they might have behavioral disorders. If a germ cell tumor occurs in the testicle, the scrotum is swollen; this is not very painful, if at all. A tumor in or near the ovary will eventually cause the abdomen to swell. The tumor can cause the ovary to rotate, which is very painful. In the event of a large tumor, the bladder and/or intestines can be flattened. Your child then has to urinate often and has difficulty defecating. The production of hormones can cause a child to enter early (precocious) puberty. A tumor in the chest can cause breathing problems.\\nHow is a germ cell tumor in the body diagnosed?\\nAn ultrasound and an MRI scan are performed and blood is drawn. Other scans can also be performed, as well as a biopsy in some instances.\\nTreatment\\nMost children are only required to have surgery, after which they are monitored by means of regular check-ups. If the tumor cannot be removed completely or if the tumor has metastasized, your child is given chemotherapy and/or radiotherapy treatment. In the event of a large tumor, chemotherapy is usually the first course of treatment, followed by surgery, followed by a second course of chemotherapy. If the tumor comes back, surgery is usually performed again, followed by more chemotherapy.\\nChance of recovery\\nOn average, children with a germ cell tumor stand a 90% chance of recovery.\\xa0\\nQuestions?\\nChildren and adolescents with a germ cell tumor in their body are treated in the solid tumors department.\\n\\n\\n\", 'filename': 'germ-cell-tumors-in-the-body.txt'}, references=None, vector={}, collection='Instructions_collection'), Object(uuid=_WeaviateUUIDInt('a453218a-5173-4b88-8807-98885aa890aa'), metadata=MetadataReturn(creation_time=None, last_update_time=None, distance=None, certainty=None, score=None, explain_score=None, is_consistent=None, rerank_score=None), properties={'content': \"intro: Bone marrow is located in the central cavity of the bones. Stem cells are produced in the bone marrow (your blood factory). Those stem cells develop into red and white blood cells and platelets. When the blood factory does not work properly, we can replace it by introducing donor stem cells. We call this allogeneic stem cell transplantation.\\n\\n\\n\\n\\n\\n\\nYour child is first treated with chemotherapy, serotherapy and/or radiotherapy. This pretreatment suppresses your child's bone marrow to create room for the donor's stem cells. Your child is then administered healthy donor stem cells via an IV. The stem cells find their way through the blood to the central cavities of the bones where they build a new blood factory. It takes a while for the blood factory to work properly and produce healthy blood cells.Before treatment you will receive the Dagboekagenda Stamceltransplantatie. You can also download it here.For your child there is the card Stamceltransplantatie and the booklet Een nieuwe bloedfabriek voor Samira (available at Vereniging Kinderkanker Nederland).\\n\\n\\n\\n\\n\\n\", 'filename': 'stem-cell-transplant-allogeneic.txt'}, references=None, vector={}, collection='Instructions_collection'), Object(uuid=_WeaviateUUIDInt('dd02225d-0bb1-4816-8441-2f038083715e'), metadata=MetadataReturn(creation_time=None, last_update_time=None, distance=None, certainty=None, score=None, explain_score=None, is_consistent=None, rerank_score=None), properties={'content': 'intro: Fanconi anemia (FA) is a genetic predisposition that can lead to bone marrow failure. FA also greatly increases the risk of leukemia or another form of cancer.\\n\\n\\nThe brochure Bone marrow failure contains comprehensive information about this disease. For detailed information go to www.fanconianemie.nl. Please note this brochure and website are currently only available in Dutch. The most important information is provided below.\\nCauses\\nFanconi anemia is caused by an error in the DNA. In Fanconi anaemia, not both parents need to be carriers. The heterozygous form also exists. Without the parents having any symptoms, they may be carriers of an abnormal FA gene. This gene can be passed on to their child.\\nSymptoms\\nChildren with FA often have skeletal and organ malformations and café au lait spots, and stunted growth. The aplastic anemia can make them pale, tired, dizzy and short of breath and cause pinpoint spots, bruising, recurring infections, fever and sometimes stomach pain, bone pain and an enlarged spleen.\\nHow is Fanconi anemia diagnosed?\\nBlood tests are done and bone marrow is extracted under sedation. Genetic testing is also carried out and a chromosome breakage test is performed.\\nTreatment\\nChildren with FA are treated according to a protocol drawn up by national and international experts. Aplastic anemia can be treated with an allogeneic stem cell transplant.\\nChance of recovery\\nAplastic anemia is easy to cure, but not the FA itself. Consequently, children with FA are monitored for the rest of their life.\\nQuestions?\\nChildren and adolescents with FA are treated in the hematology-oncology department.\\n\\n\\nTelephone 088-9727272\\nEmail info@prinsesmaximacentrum.nl\\n\\n\\n\\n', 'filename': 'fanconi-anemia-fa.txt'}, references=None, vector={}, collection='Instructions_collection'), Object(uuid=_WeaviateUUIDInt('bfc6a9df-d7a5-4e82-b171-10568c16985d'), metadata=MetadataReturn(creation_time=None, last_update_time=None, distance=None, certainty=None, score=None, explain_score=None, is_consistent=None, rerank_score=None), properties={'content': 'intro: Every year, approximately 3-5 children in the Netherlands are diagnosed with myelodysplastic syndrome. In the case of MDS, the stem cells in the bone marrow do not mature or do not mature enough. Due to the poor quality of the cells, the body destroys most of them before they enter the bloodstream, causing a lack of platelets and white and/or red blood cells. Too many immature myeloid cells (a type of white blood cell) can also develop.\\n\\nThe brochure Bone marrow failure contains comprehensive information about this disease. Please note this brochure is currently only available in Dutch. The most important information is provided below.\\nCauses\\nWe do not know actually what causes myelodysplastic disorders. Very occasionally, myelodysplasia is a late effect of past chemotherapy or radiotherapy treatment.\\nSymptoms\\nChildren with MDS are often tired and lethargic, bleed and bruise easily, and also suffer from abdominal and bone pain. Children with Juvenile myelomonocytic leukemia (JMML), a disease that is classified under MDS, often have an enlarged spleen, swollen lymph nodes and peculiar skin spots. They are sometimes also short of breath.\\nHow is myelodysplastic syndrome diagnosed?\\nBlood tests are done and bone marrow is extracted under sedation.\\nTreatment\\nChildren with MDS are treated according to a protocol drawn up by national and international experts. MDS treatment is sometimes put on hold, in which case children are given blood transfusions or immunosuppressive drugs if needed. If necessary, an allogeneic stem cell transplant is performed. JMML treatment sometimes starts with chemotherapy, but ultimately an allogeneic stem cell transplant is always required.\\nChance of recovery\\nThe chance of recovery depends greatly on any complications during treatment.\\nQuestions?\\nChildren with MDS are treated in the hematology-oncology department.\\n\\n\\nTelephone 088-9727272\\nE-mail info@prinsesmaximacentrum.nl\\n\\n\\n', 'filename': 'myelodysplastic-syndrome-mds.txt'}, references=None, vector={}, collection='Instructions_collection'), Object(uuid=_WeaviateUUIDInt('cd445ec7-4031-48a1-8e90-18bad151a808'), metadata=MetadataReturn(creation_time=None, last_update_time=None, distance=None, certainty=None, score=None, explain_score=None, is_consistent=None, rerank_score=None), properties={'content': \"intro: Every year, approximately 8-10 children in the Netherlands are diagnosed with a germ cell tumor of the brain. The tumor can occur at any age and just as often in boys as in girls.\\n\\nThe brochure Germ cell tumors contains comprehensive information about this disease. Please note this brochure is currently only available in Dutch. The most important information is provided below.\\nCauses\\nGerm cell tumors are caused by a developmental error in one of the reproductive cells. Presumably, something has already changed in the cell's DNA in the nucleus before birth. The cause of that change is unknown.\\nSymptoms\\nChildren with a germ cell tumor of the brain often suffer symptoms such as headaches, nausea, difficulty seeing or an unsteady gait. Furthermore, hormone changes can cause obesity, growth retardation or early puberty.\\nHow is germ cell tumor of the brain diagnosed?\\nAn MRI scan is performed and blood and cerebrospinal fluid are drawn and then examined in the laboratory. In some instances, a biopsy is necessary in order to make a firm diagnosis.\\nTreatment\\nChildren with a germ cell tumor are treated according to a protocol drawn up by national and international experts. Treatment usually consists of chemotherapy, followed by radiotherapy.\\nChance of recovery\\nOn average, children with a germ cell tumor stand a 90% chance of recovery.\\nQuestions?\\nChildren and adolescents with a germ cell tumor of the brain are treated in the neuro-oncology department.\\n\", 'filename': 'germ-cell-tumor-of-the-brain.txt'}, references=None, vector={}, collection='Instructions_collection'), Object(uuid=_WeaviateUUIDInt('c8dda6ce-6d05-48f6-b123-78195fdb1fd0'), metadata=MetadataReturn(creation_time=None, last_update_time=None, distance=None, certainty=None, score=None, explain_score=None, is_consistent=None, rerank_score=None), properties={'content': 'intro: Ultrasound scans provide an image of organs and body parts using sound vibrations.\\n\\n\\nYour child lies on an examination table, usually on their back, sometimes on their side. The ultrasound technician, called a sonographer, applies a lubricating gel to the area that is to be examined and then rubs the ultrasound transducer on the lubricated skin. Black and white film images appear on a screen. In most instances, a radiologist will come along to view the images. Ultrasounds take about 45 minutes.\\nMore information is provided in the ultrasound information letter (only in Dutch)\\n\\n\\n', 'filename': 'ultrasound.txt'}, references=None, vector={}, collection='Instructions_collection'), Object(uuid=_WeaviateUUIDInt('c8c6379d-648e-40f7-aff9-f10cc080ef92'), metadata=MetadataReturn(creation_time=None, last_update_time=None, distance=None, certainty=None, score=None, explain_score=None, is_consistent=None, rerank_score=None), properties={'content': 'intro: Each year, approximately 25-40 children in the Netherlands are diagnosed with a severe form of bone marrow failure, such as myelodysplastic syndrome, juvenile myelomonocytic leukemia, Fanconi anemia and aplastic anemia. Congenital bone marrow failure is diagnosed in some instances immediately after birth, but is often not determined until some time later.\\xa0 Acquired bone marrow failure can develop at any age.\\n\\n\\nThe brochure Bone marrow failure and myelodysplastic syndrome contains comprehensive information about this disease. Please note this brochure is currently only available in Dutch. The most important information is provided below.\\nCause\\nBone marrow failure is often caused by an error in one of the immature blood cells. Something in the DNA or the chromosomes has been damaged in the nucleus of the cell and that damage cannot always be identified. The cause of the damage is often unknown. Sometimes the bone marrow failure is already present at birth (congenital), sometimes it develops later in life (acquired). Sometimes bone marrow failure is hereditary.\\nSymptoms\\nThe symptoms of bone marrow failure depend on the cell line (the type of cells) that fails. If your child has a shortage of red blood cells (anaemia), your child is pale and tired, and can also suffer from dizziness and shortness of breath. A lack of healthy white blood cells can cause recurring or severe infections and fever. Nosebleeds, easy bruising, pinpoint-sized purple-red spots, and sores that keep bleeding are due to a shortage of platelets. Your child may also have a fever, swollen lymph nodes, bone or abdominal pain, or an enlarged spleen. A mix of the aforementioned symptoms occurs when all cell lines fail.\\nHow is bone marrow failure diagnosed?\\nBlood tests are done and bone marrow is extracted under sedation. A chromosome breakage test is performed as well in some instances.\\nTreatment\\nChildren with bone marrow failure are treated according to a protocol drawn up by national and international experts. Treatment depends on the cause and severity of the disease and consists of medication, blood transfusions and/or an allogeneic stem cell transplant. The latter is only possible if a suitable donor is found.\\nChance of recovery\\nThe chance of recovery depends greatly on any complications during treatment.\\nQuestions\\nChildren with bone marrow failure are treated in the hematology oncology ward.\\n\\n', 'filename': 'bone-marrow-failure.txt'}, references=None, vector={}, collection='Instructions_collection'), Object(uuid=_WeaviateUUIDInt('4f56c2ee-29f9-4288-927e-3c0e0fefba06'), metadata=MetadataReturn(creation_time=None, last_update_time=None, distance=None, certainty=None, score=None, explain_score=None, is_consistent=None, rerank_score=None), properties={'content': 'intro: In some instances, a bone marrow aspiration is required in order to make a diagnosis. Bone marrow is located in the central cavity of the bones. That is where your blood is produced: red blood cells, white blood cells and platelets. A bone marrow aspiration is occasionally performed during treatment as well in order to check how effective the treatment is. A bone marrow aspiration is performed under sedation, so your child will feel nothing of the procedure.\\n\\nBeforehand\\nThe examination and the sedation are explained prior to the actual procedure. The medical pedagogical care provider prepares your child and explains what will be done during the procedure.\\nThe examination\\nA sample of the bone marrow is drawn from the hipbone (pelvis) through a small needle. Sometimes a tiny piece of bone is removed at the same time. The bone marrow and the piece of bone are examined in the laboratory.\\nAfterward\\nA plaster is applied to the puncture site. The site might be sensitive, in which case you may give your child paracetamol.\\nShould you need any further information, please feel free to ask.\\n', 'filename': 'bone-marrow-aspiration.txt'}, references=None, vector={}, collection='Instructions_collection'), Object(uuid=_WeaviateUUIDInt('66c6edc1-10bb-4fcb-b4b4-dd8c2b37b836'), metadata=MetadataReturn(creation_time=None, last_update_time=None, distance=None, certainty=None, score=None, explain_score=None, is_consistent=None, rerank_score=None), properties={'content': \"intro: Hemophagocytic lymphohistiocytosis (HLH) is a non-malignant but life threatening disease. Every year, approximately 4-6 children in the Netherlands are diagnosed with HLH. HLH can occur at any age, often in young babies even.\\n\\n\\nThe brochure Hemophagocytic lymphohistiocytosis contains comprehensive information about this disease. Please note this brochure is currently only available in Dutch. The most important information is provided below.\\nCauses\\nHLH is caused by a dysregulation of the immune system. The immune cells do not work properly and so, in an attempt to get the immune system back up, they divide uncontrollably. This causes an enormous secretion of inflammatory proteins. There are hereditary (primary) forms of HLH that often occur at a young age, but there are also secondary forms. The latter are a side effect of an infection, a rheumatological disease or cancer. The immune system has got out of control and is no longer properly regulated. The immune cells will continue to fuel HLH, particularly if the infection or the cancer is still present in the body.\\nSymptoms\\nChildren with HLH are often very sick, have a high fever that does not respond to antibiotics, swollen lymph nodes and a lack of healthy blood cells. Other symptoms include skin rash, an enlarged liver and spleen and sometimes neurological symptoms.\\nHow is HLH diagnosed?\\nThe symptoms and the results of a blood test combined are often sufficient to make the diagnosis. Treatment can then commence without delay and before your child gets any sicker. It is also checked whether heredity figures in your child's disease.\\nTreatment\\nTreatment consists of a combination of drugs that suppress inflammation (immunosuppression) and chemotherapy. A hereditary form of HLH requires a stem cell transplant with donor stem cells once the disease is stable. A stem cell transplant is also required when a non-hereditary form repeatedly causes symptoms.\\nChance of recovery\\nRecovery strongly depends on how the disease can be brought under control.\\nQuestions?\\nChildren and teenagers with HLH are treated in the hematology-oncology department.\\n\\n\\nTelephone 088-9727272\\nEmail info@prinsesmaximacentrum.nl\\n\\n\\n\\n\", 'filename': 'hemophagocytic-lymphohistiocytosis-hlh.txt'}, references=None, vector={}, collection='Instructions_collection')])\n"
     ]
    }
   ],
   "source": [
    "print(result)"
   ]
  },
  {
   "cell_type": "code",
   "execution_count": 8,
   "id": "254135ab-4536-4254-bf9e-961c4c648da9",
   "metadata": {},
   "outputs": [
    {
     "name": "stdout",
     "output_type": "stream",
     "text": [
      "fertility-preservation-in-boys.txt\n",
      "germ-cell-tumors-in-the-body.txt\n",
      "stem-cell-transplant-allogeneic.txt\n",
      "fanconi-anemia-fa.txt\n",
      "myelodysplastic-syndrome-mds.txt\n",
      "germ-cell-tumor-of-the-brain.txt\n",
      "ultrasound.txt\n",
      "bone-marrow-failure.txt\n",
      "bone-marrow-aspiration.txt\n",
      "hemophagocytic-lymphohistiocytosis-hlh.txt\n"
     ]
    }
   ],
   "source": [
    "for e in result.objects:\n",
    "    print(e.properties.get(\"filename\"))"
   ]
  },
  {
   "cell_type": "code",
   "execution_count": null,
   "id": "694a226a-ddd2-4673-879c-e6bea1bf5664",
   "metadata": {},
   "outputs": [],
   "source": []
  }
 ],
 "metadata": {
  "kernelspec": {
   "display_name": "Python 3 (ipykernel)",
   "language": "python",
   "name": "python3"
  },
  "language_info": {
   "codemirror_mode": {
    "name": "ipython",
    "version": 3
   },
   "file_extension": ".py",
   "mimetype": "text/x-python",
   "name": "python",
   "nbconvert_exporter": "python",
   "pygments_lexer": "ipython3",
   "version": "3.11.9"
  }
 },
 "nbformat": 4,
 "nbformat_minor": 5
}
