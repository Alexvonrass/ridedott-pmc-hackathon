{
 "cells": [
  {
   "cell_type": "code",
   "execution_count": 4,
   "id": "16abdfb0-98b5-4f32-b45d-2fa61ab1f452",
   "metadata": {},
   "outputs": [],
   "source": [
    "wcs_api_key = '6HdTpfDmEaUNqSJ1FRz9A9aaezvxp4PyPlBw'\n",
    "palm_api_key = 'ya29.a0Ad52N3-0tSG21qUl3sH1SINIWensws_ByzQsBwti7xUQC-HSYhqviKnB3RvqAHgYFYXMvjdCyVaR-jjO4-MOADrceN4vcQA-hhqKJD6tyl9Ruf1TldtjB1i4_WsyVrbVWbNrWGz4tZUHVRAzqcmtuy7t3kmcit3EmrKKZhIZyQaCgYKAUESARMSFQHGX2MiGJWZD97WTcicgBJIw1gk0A0177'\n",
    "cluster_url = 'https://ridedott-hackathon-8nl5t484.weaviate.network'\n",
    "gcloud_project_id = 'qwiklabs-gcp-02-08a8c713b151'"
   ]
  },
  {
   "cell_type": "code",
   "execution_count": 5,
   "id": "11d47529-4a0b-45ae-b8b8-d94a28223a20",
   "metadata": {},
   "outputs": [
    {
     "name": "stderr",
     "output_type": "stream",
     "text": [
      "/var/folders/2k/n5js1s852_l4y3k70zxzn4l40000gn/T/ipykernel_76911/497072306.py:4: ResourceWarning: unclosed <ssl.SSLSocket fd=75, family=2, type=1, proto=0, laddr=('10.38.0.58', 58705), raddr=('34.149.137.116', 443)>\n",
      "  client = weaviate.connect_to_wcs(\n",
      "ResourceWarning: Enable tracemalloc to get the object allocation traceback\n"
     ]
    }
   ],
   "source": [
    "import weaviate\n",
    "from weaviate.classes.config import Property, DataType\n",
    "\n",
    "client = weaviate.connect_to_wcs(\n",
    "    cluster_url=cluster_url,\n",
    "    auth_credentials=weaviate.auth.AuthApiKey(wcs_api_key),\n",
    "    headers={\"X-PaLM-Api-Key\": palm_api_key},\n",
    ")"
   ]
  },
  {
   "cell_type": "code",
   "execution_count": 6,
   "id": "68739af2-30b6-4401-946d-381d00750934",
   "metadata": {},
   "outputs": [],
   "source": [
    "import weaviate.classes as wvc\n",
    "\n",
    "collection = client.collections.create(\n",
    "    name=\"Test_Collection\",\n",
    "    vectorizer_config=wvc.config.Configure.Vectorizer.text2vec_palm(\n",
    "        project_id=gcloud_project_id,\n",
    "        model_id=\"text-embedding-preview-0409\",\n",
    "    ),\n",
    "    properties=[\n",
    "        wvc.config.Property(name=\"title\", data_type=wvc.config.DataType.TEXT),\n",
    "        wvc.config.Property(name=\"abstract\", data_type=wvc.config.DataType.TEXT),\n",
    "    ],\n",
    ")"
   ]
  },
  {
   "cell_type": "code",
   "execution_count": 7,
   "id": "a1753d09-58eb-45c1-9fd0-253a1ac3d600",
   "metadata": {},
   "outputs": [],
   "source": [
    "with collection.batch.dynamic() as batch:\n",
    "    batch.add_object(\n",
    "            properties={\n",
    "                \"title\": \"anesthesia\",\n",
    "                \"content\": \"The anesthesiologist explains and tells you when your child is not allowed to eat and drink. Your child is usually allowed to choose the method for being put under: either by means of a mask or medication via the IV or the line. The medical pedagogical care providers prepare your child and explain what is about to happen. During anesthesia your child may not wear jewelry, make-up or nail polish.\",\n",
    "            },\n",
    "        )"
   ]
  },
  {
   "cell_type": "code",
   "execution_count": 8,
   "id": "1efd83de-fcf0-4b95-b94c-1aff3b2b9695",
   "metadata": {},
   "outputs": [],
   "source": [
    "result = collection.query.hybrid(\"how does anesthesia work?\", limit=10)"
   ]
  },
  {
   "cell_type": "code",
   "execution_count": 9,
   "id": "53c4ee35-f048-4eca-8d20-06682459bfd0",
   "metadata": {},
   "outputs": [
    {
     "name": "stdout",
     "output_type": "stream",
     "text": [
      "QueryReturn(objects=[Object(uuid=_WeaviateUUIDInt('e90f80f4-db70-466f-a85e-4478f8ea7e2d'), metadata=MetadataReturn(creation_time=None, last_update_time=None, distance=None, certainty=None, score=None, explain_score=None, is_consistent=None, rerank_score=None), properties={'abstract': None, 'title': 'anesthesia', 'content': 'The anesthesiologist explains and tells you when your child is not allowed to eat and drink. Your child is usually allowed to choose the method for being put under: either by means of a mask or medication via the IV or the line. The medical pedagogical care providers prepare your child and explain what is about to happen. During anesthesia your child may not wear jewelry, make-up or nail polish.'}, references=None, vector={}, collection='Test_Collection')])\n"
     ]
    }
   ],
   "source": [
    "print(result)"
   ]
  },
  {
   "cell_type": "code",
   "execution_count": 10,
   "id": "254135ab-4536-4254-bf9e-961c4c648da9",
   "metadata": {},
   "outputs": [
    {
     "name": "stdout",
     "output_type": "stream",
     "text": [
      "anesthesia\n"
     ]
    }
   ],
   "source": [
    "for e in result.objects:\n",
    "    print(e.properties.get(\"title\"))"
   ]
  },
  {
   "cell_type": "code",
   "execution_count": null,
   "id": "694a226a-ddd2-4673-879c-e6bea1bf5664",
   "metadata": {},
   "outputs": [],
   "source": []
  }
 ],
 "metadata": {
  "kernelspec": {
   "display_name": "Python 3 (ipykernel)",
   "language": "python",
   "name": "python3"
  },
  "language_info": {
   "codemirror_mode": {
    "name": "ipython",
    "version": 3
   },
   "file_extension": ".py",
   "mimetype": "text/x-python",
   "name": "python",
   "nbconvert_exporter": "python",
   "pygments_lexer": "ipython3",
   "version": "3.11.9"
  }
 },
 "nbformat": 4,
 "nbformat_minor": 5
}
