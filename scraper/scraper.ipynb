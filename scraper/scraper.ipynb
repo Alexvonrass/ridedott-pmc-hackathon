{
  "nbformat": 4,
  "nbformat_minor": 0,
  "metadata": {
    "colab": {
      "provenance": []
    },
    "kernelspec": {
      "name": "python3",
      "display_name": "Python 3"
    },
    "language_info": {
      "name": "python"
    }
  },
  "cells": [
    {
      "cell_type": "code",
      "source": [
        "pip install urlextract"
      ],
      "metadata": {
        "colab": {
          "base_uri": "https://localhost:8080/"
        },
        "id": "cy65Dz3rU1yt",
        "outputId": "2101958e-f684-40d6-9916-d27b352fb88b"
      },
      "execution_count": null,
      "outputs": [
        {
          "output_type": "stream",
          "name": "stdout",
          "text": [
            "Collecting urlextract\n",
            "  Downloading urlextract-1.9.0-py3-none-any.whl (21 kB)\n",
            "Requirement already satisfied: idna in /usr/local/lib/python3.10/dist-packages (from urlextract) (3.7)\n",
            "Collecting uritools (from urlextract)\n",
            "  Downloading uritools-4.0.2-py3-none-any.whl (10 kB)\n",
            "Requirement already satisfied: platformdirs in /usr/local/lib/python3.10/dist-packages (from urlextract) (4.2.0)\n",
            "Requirement already satisfied: filelock in /usr/local/lib/python3.10/dist-packages (from urlextract) (3.13.4)\n",
            "Installing collected packages: uritools, urlextract\n",
            "Successfully installed uritools-4.0.2 urlextract-1.9.0\n"
          ]
        }
      ]
    },
    {
      "cell_type": "code",
      "source": [
        "pip install urllib2"
      ],
      "metadata": {
        "colab": {
          "base_uri": "https://localhost:8080/"
        },
        "id": "UmV91w5PWg0y",
        "outputId": "885f9805-8112-4e6f-d156-b0843bd80431"
      },
      "execution_count": null,
      "outputs": [
        {
          "output_type": "stream",
          "name": "stdout",
          "text": [
            "\u001b[31mERROR: Could not find a version that satisfies the requirement urllib2 (from versions: none)\u001b[0m\u001b[31m\n",
            "\u001b[0m\u001b[31mERROR: No matching distribution found for urllib2\u001b[0m\u001b[31m\n",
            "\u001b[0m"
          ]
        }
      ]
    },
    {
      "cell_type": "markdown",
      "source": [],
      "metadata": {
        "id": "WfHj1cqMVTfL"
      }
    },
    {
      "cell_type": "code",
      "source": [
        "from urlextract import URLExtract\n",
        "import pandas as pd\n",
        "from bs4 import BeautifulSoup\n",
        "import requests\n",
        "import ast\n",
        "import time\n",
        "import logging\n",
        "import os\n",
        "import re\n",
        "from google.colab import drive\n",
        "\n",
        "# Mount Google Drive\n",
        "drive.mount('/content/drive')"
      ],
      "metadata": {
        "id": "Wz-sTw4fVUIp",
        "colab": {
          "base_uri": "https://localhost:8080/"
        },
        "outputId": "871b4a7e-f362-4dbe-fb39-6ac448c7eb19"
      },
      "execution_count": null,
      "outputs": [
        {
          "output_type": "stream",
          "name": "stdout",
          "text": [
            "Drive already mounted at /content/drive; to attempt to forcibly remount, call drive.mount(\"/content/drive\", force_remount=True).\n"
          ]
        }
      ]
    },
    {
      "cell_type": "code",
      "source": [
        "def get_html(url):\n",
        "    \"\"\"\n",
        "    Return the html from a url\n",
        "\n",
        "    \"\"\"\n",
        "\n",
        "    retries = 3\n",
        "\n",
        "    for i in range(retries):\n",
        "\n",
        "        try:\n",
        "            r = requests.get(url, timeout=15)\n",
        "            if r.status_code == 200:\n",
        "                connection_error = None\n",
        "                return r.text\n",
        "        except:\n",
        "            logging.warning(\"Failed to establish a connection to page: Trying again ({})\".format(i + 1))\n",
        "            if i + 1 == retries:\n",
        "                connection_error = 1\n",
        "                raise\n",
        "\n",
        "            else:\n",
        "                wait = 2\n",
        "                logging.info(\"Waiting {} seconds\".format(wait))\n",
        "                time.sleep(wait)\n",
        "\n",
        "def make_soup(url):\n",
        "    text = get_html(url)\n",
        "    soup = BeautifulSoup(text, 'lxml')\n",
        "    return soup\n",
        "\n",
        "def get_urls(soup):\n",
        "\n",
        "    links = soup.find_all(class_='wrapper')\n",
        "    extractor = URLExtract()\n",
        "    urls = extractor.find_urls(str(links))\n",
        "\n",
        "    return urls\n",
        "\n",
        "def get_intro(intro_soup):\n",
        "    intro = []\n",
        "    for i in intro_soup:\n",
        "        intro.append(i.find('p').text)\n",
        "    page_intro = 'intro: '\n",
        "    for e in intro:\n",
        "        page_intro = page_intro + e\n",
        "\n",
        "    return str(page_intro)\n",
        "\n",
        "def get_content(content_soup):\n",
        "    CLEANR = re.compile('<.*?>')\n",
        "\n",
        "    page_content = re.sub(CLEANR, '', str(content_soup))\n",
        "    return page_content\n"
      ],
      "metadata": {
        "id": "xRb9VmJeNS4F"
      },
      "execution_count": null,
      "outputs": []
    },
    {
      "cell_type": "code",
      "source": [
        "base_url ='https://zorg.prinsesmaximacentrum.nl/en/procedures'\n",
        "base_soup = make_soup(base_url)\n",
        "urls = get_urls(base_soup)\n",
        "\n",
        "\n",
        "\n",
        "for i in urls:\n",
        "    print (f\"scaping {i}\")\n",
        "    try:\n",
        "        sub_url = i\n",
        "        soup_sub = make_soup(sub_url)\n",
        "        intro_soup = soup_sub.find_all(class_='intro')\n",
        "        content_soup = soup_sub.find_all(class_=\"page-content -small-bottom\")\n",
        "\n",
        "        page_intro = get_intro(intro_soup)\n",
        "        print('getting intro')\n",
        "        page_content = get_content(content_soup)\n",
        "        print('getting content')\n",
        "\n",
        "        title = sub_url.split(base_url)[-1][1:]\n",
        "\n",
        "        page = page_intro + page_content[1:-2]\n",
        "        with open(f'/content/drive/My Drive/procedures/{title}.txt', 'w') as f:\n",
        "            f.write(str(page))\n",
        "        print('saved')\n",
        "        time.wait(1)\n",
        "\n",
        "\n",
        "    except Exception:\n",
        "        pass"
      ],
      "metadata": {
        "id": "2f8l-F6lOSiZ",
        "colab": {
          "base_uri": "https://localhost:8080/"
        },
        "outputId": "c8ac74f3-d779-40df-8380-00ad6c128a60"
      },
      "execution_count": null,
      "outputs": [
        {
          "output_type": "stream",
          "name": "stdout",
          "text": [
            "scaping https://zorg.prinsesmaximacentrum.nl/en/procedures\n",
            "failed\n",
            "scaping https://zorg.prinsesmaximacentrum.nl/en/procedures\n",
            "failed\n",
            "scaping https://zorg.prinsesmaximacentrum.nl/en/procedures/biopsy\n",
            "getting intro\n",
            "getting content\n",
            "saved\n",
            "failed\n",
            "scaping https://zorg.prinsesmaximacentrum.nl/en/procedures/blood-samples\n",
            "failed\n",
            "scaping https://zorg.prinsesmaximacentrum.nl/en/procedures/bone-marrow-aspiration\n",
            "getting intro\n",
            "getting content\n",
            "saved\n",
            "failed\n",
            "scaping https://zorg.prinsesmaximacentrum.nl/en/procedures/brain-scan-eeg\n",
            "failed\n",
            "scaping https://zorg.prinsesmaximacentrum.nl/en/procedures/ct-scan-cat-scan\n",
            "getting intro\n",
            "getting content\n",
            "saved\n",
            "failed\n",
            "scaping https://zorg.prinsesmaximacentrum.nl/en/procedures/case-history-and-physical-examination\n",
            "getting intro\n",
            "getting content\n",
            "saved\n",
            "failed\n",
            "scaping https://zorg.prinsesmaximacentrum.nl/en/procedures/chest-x-ray\n",
            "getting intro\n",
            "getting content\n",
            "saved\n",
            "failed\n",
            "scaping https://zorg.prinsesmaximacentrum.nl/en/procedures/eye-test\n",
            "getting intro\n",
            "getting content\n",
            "saved\n",
            "failed\n",
            "scaping https://zorg.prinsesmaximacentrum.nl/en/procedures/hearing-test\n",
            "getting intro\n",
            "getting content\n",
            "saved\n",
            "failed\n",
            "scaping https://zorg.prinsesmaximacentrum.nl/en/procedures/heart-scan-ecg\n",
            "failed\n",
            "scaping https://zorg.prinsesmaximacentrum.nl/en/procedures/isolation\n",
            "failed\n",
            "scaping https://zorg.prinsesmaximacentrum.nl/en/procedures/kidney-function-test\n",
            "failed\n",
            "scaping https://zorg.prinsesmaximacentrum.nl/en/procedures/lumbar-puncture\n",
            "getting intro\n",
            "getting content\n",
            "saved\n",
            "failed\n",
            "scaping https://zorg.prinsesmaximacentrum.nl/en/procedures/mibg-scan\n",
            "failed\n",
            "scaping https://zorg.prinsesmaximacentrum.nl/en/procedures/mri\n",
            "getting intro\n",
            "getting content\n",
            "saved\n",
            "failed\n",
            "scaping https://zorg.prinsesmaximacentrum.nl/en/procedures/nasal-swab\n",
            "failed\n",
            "scaping https://zorg.prinsesmaximacentrum.nl/en/procedures/pet-scan\n",
            "getting intro\n",
            "getting content\n",
            "saved\n",
            "failed\n",
            "scaping https://zorg.prinsesmaximacentrum.nl/en/procedures/pulmonary-function-test\n",
            "failed\n",
            "scaping https://zorg.prinsesmaximacentrum.nl/en/procedures/thyroid-test\n",
            "failed\n",
            "scaping https://zorg.prinsesmaximacentrum.nl/en/procedures/ultrasound\n",
            "getting intro\n",
            "getting content\n",
            "saved\n",
            "failed\n",
            "scaping https://zorg.prinsesmaximacentrum.nl/en/procedures/x-ray\n",
            "failed\n"
          ]
        }
      ]
    },
    {
      "cell_type": "code",
      "source": [
        "base_url ='https://zorg.prinsesmaximacentrum.nl/en/treatment-medication/treatments'\n",
        "base_soup = make_soup(base_url)\n",
        "urls = get_urls(base_soup)\n",
        "\n",
        "\n",
        "\n",
        "for i in urls:\n",
        "    print (f\"scaping {i}\")\n",
        "    try:\n",
        "        sub_url = i\n",
        "        soup_sub = make_soup(sub_url)\n",
        "        intro_soup = soup_sub.find_all(class_='intro')\n",
        "        content_soup = soup_sub.find_all(class_=\"page-content -small-bottom\")\n",
        "\n",
        "        page_intro = get_intro(intro_soup)\n",
        "        print('getting intro')\n",
        "        page_content = get_content(content_soup)\n",
        "        print('getting content')\n",
        "\n",
        "        title = sub_url.split(base_url)[-1][1:]\n",
        "\n",
        "        page = page_intro + page_content[1:-2]\n",
        "        with open(f'/content/drive/My Drive/treatments/{title}.txt', 'w') as f:\n",
        "            f.write(str(page))\n",
        "        print('saved')\n",
        "        time.wait(1)\n",
        "\n",
        "\n",
        "    except Exception:\n",
        "        print ('failed')\n",
        "        pass"
      ],
      "metadata": {
        "colab": {
          "base_uri": "https://localhost:8080/",
          "height": 35
        },
        "id": "hVCPmD6V3ZI2",
        "outputId": "9b3f58b8-eb9d-442a-f3b5-8f5a15922f71"
      },
      "execution_count": null,
      "outputs": [
        {
          "output_type": "execute_result",
          "data": {
            "text/plain": [
              "'https://zorg.prinsesmaximacentrum.nl/en/diagnosis/wilms-tumor'"
            ],
            "application/vnd.google.colaboratory.intrinsic+json": {
              "type": "string"
            }
          },
          "metadata": {},
          "execution_count": 180
        }
      ]
    },
    {
      "cell_type": "code",
      "source": [
        "base_url = 'https://zorg.prinsesmaximacentrum.nl/en/diagnosis'\n",
        "base_soup = make_soup(base_url)\n",
        "urls = get_urls(base_soup)\n",
        "\n",
        "\n",
        "\n",
        "for i in urls:\n",
        "    print (f\"scaping {i}\")\n",
        "    try:\n",
        "        sub_url = i\n",
        "        soup_sub = make_soup(sub_url)\n",
        "        intro_soup = soup_sub.find_all(class_='intro')\n",
        "        content_soup = soup_sub.find_all(class_=\"page-content -small-bottom\")\n",
        "\n",
        "        page_intro = get_intro(intro_soup)\n",
        "        print('getting intro')\n",
        "        page_content = get_content(content_soup)\n",
        "        print('getting content')\n",
        "\n",
        "        title = sub_url.split(base_url)[-1][1:]\n",
        "\n",
        "        page = page_intro + page_content[1:-2]\n",
        "        with open(f'/content/drive/My Drive/diagnosis/{title}.txt', 'w') as f:\n",
        "            f.write(str(page))\n",
        "        print('saved')\n",
        "        time.wait(1)\n",
        "\n",
        "\n",
        "    except Exception:\n",
        "        pass"
      ],
      "metadata": {
        "id": "eRTl3noY-q21"
      },
      "execution_count": null,
      "outputs": []
    },
    {
      "cell_type": "code",
      "source": [],
      "metadata": {
        "id": "04I5M71hb8cp"
      },
      "execution_count": null,
      "outputs": []
    },
    {
      "cell_type": "code",
      "source": [],
      "metadata": {
        "id": "oJ8f1T9F-rIy"
      },
      "execution_count": null,
      "outputs": []
    }
  ]
}
